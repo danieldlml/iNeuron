{
 "cells": [
  {
   "cell_type": "markdown",
   "metadata": {},
   "source": [
    "# Assignment"
   ]
  },
  {
   "cell_type": "markdown",
   "metadata": {},
   "source": [
    "Q1. Write the Python program to create an instance of an OrderedDict \n",
    "using the given dictionary and sort dictionary during the\n",
    "creation and print members of the dictionary in reverse order?\n",
    "\n",
    "    Expected OutputAngola 244.\n",
    "    Andorra 376.\n",
    "    Algeria 213.\n",
    "    Afghanistan 93.\n",
    "    Albania 355.\n",
    "    In reverse orderAlbania 355.\n",
    "    Afghanistan 93.\n",
    "    Algeria 213.\n",
    "    Andorra 376.\n",
    "    Angola 244."
   ]
  },
  {
   "cell_type": "code",
   "execution_count": 75,
   "metadata": {},
   "outputs": [
    {
     "name": "stdout",
     "output_type": "stream",
     "text": [
      "\n",
      "Input Order :\n",
      "\n",
      "Angola 244\n",
      "Andorra 376\n",
      "Algeria 213\n",
      "Afghanistan 93\n",
      "Albania 355\n",
      "\n",
      "In Reverse Order :\n",
      "\n",
      "Albania 355\n",
      "Afghanistan 93\n",
      "Algeria 213\n",
      "Andorra 376\n",
      "Angola 244\n"
     ]
    }
   ],
   "source": [
    "#Python program to create an instance of an OrderedDict using the given dictionary and sort dictionary during the creation and print members of the dictionary in reverse order\n",
    "\n",
    "from collections import OrderedDict\n",
    "dict = {'Angola':244,'Andorra':376,'Algeria':213,'Afghanistan':93,'Albania':355}\n",
    "ordDict = OrderedDict(dict.items())\n",
    "print('\\nInput Order :\\n')\n",
    "for key in ordDict:\n",
    "    print(key, ordDict[key])\n",
    "\n",
    "print('\\nIn Reverse Order :\\n')\n",
    "for key in reversed(ordDict):\n",
    "    print(key, ordDict[key])"
   ]
  },
  {
   "cell_type": "markdown",
   "metadata": {},
   "source": [
    "Q2. Write the Python program to compare two unordered lists (not\n",
    "sets)?\n",
    " \n",
    "     Expected Output: False"
   ]
  },
  {
   "cell_type": "code",
   "execution_count": 76,
   "metadata": {},
   "outputs": [
    {
     "name": "stdout",
     "output_type": "stream",
     "text": [
      "False\n"
     ]
    }
   ],
   "source": [
    "# Python program to compare two unordered lists (not sets)\n",
    "\n",
    "from collections import Counter\n",
    "def compare_lists(x, y):\n",
    "    return Counter(x) == Counter(y)\n",
    "#a1 = ['a','b','c','d','e','f']\n",
    "#a2 = ['a','b','c','d','e','ff']\n",
    "#print(compare_lists(a1, a2))\n",
    "n1 = [1,2,3,4,5,6,7]\n",
    "n2 = [1,2,3,4,5,6,8]\n",
    "print(compare_lists(n1, n2))"
   ]
  },
  {
   "cell_type": "markdown",
   "metadata": {},
   "source": [
    "Q3. Write the Python program to get an array buffer information?\n",
    "\n",
    "    Expected OutputArray buffer start address in memory and number of elements.\n",
    "    (25855056, 2)\n"
   ]
  },
  {
   "cell_type": "code",
   "execution_count": 77,
   "metadata": {},
   "outputs": [
    {
     "name": "stdout",
     "output_type": "stream",
     "text": [
      "Array buffer start address in memory and number of elements is  (2527207032192, 2)\n"
     ]
    }
   ],
   "source": [
    "#Python program to get an array buffer information\n",
    "\n",
    "from array import array\n",
    "arr = array(\"i\",(14,45))\n",
    "\n",
    "print(\"Array buffer start address in memory and number of elements is \", arr.buffer_info())"
   ]
  },
  {
   "cell_type": "markdown",
   "metadata": {},
   "source": [
    "Q4. Write the Python program to convert an array to an array of\n",
    "machine values and return the bytes representation?\n",
    "\n",
    "    Expected OutputOriginal arrayA1: array('i', [1, 2, 3, 4, 5, 6])\n",
    "    Array of bytes:\n",
    "    b'010000000200000003000000040000000500000006000000"
   ]
  },
  {
   "cell_type": "code",
   "execution_count": 78,
   "metadata": {},
   "outputs": [
    {
     "name": "stdout",
     "output_type": "stream",
     "text": [
      "Original array is : array('i', [1, 2, 3, 4, 5, 6])\n",
      "Array of Bytes : b'\\x01\\x00\\x00\\x00\\x02\\x00\\x00\\x00\\x03\\x00\\x00\\x00\\x04\\x00\\x00\\x00\\x05\\x00\\x00\\x00\\x06\\x00\\x00\\x00'\n"
     ]
    }
   ],
   "source": [
    "# Python program to convert an array to an array of machine values and return the bytes representation\n",
    "\n",
    "A1 = array('i',[1,2,3,4,5,6])\n",
    "print(\"Original array is :\",A1)\n",
    "print(\"Array of Bytes :\", A1.tobytes())"
   ]
  },
  {
   "cell_type": "markdown",
   "metadata": {},
   "source": [
    "Q5. Write the Python program to read a string and interpreting the\n",
    "string as an array of machine values?\n",
    "\n",
    "    Expected Outputarray1- array('i', [7, 8, 9, 10])\n",
    "    Bytes- b'0700000008000000090000000a000000'\n",
    "    array2- array('i', [7, 8, 9, 10])"
   ]
  },
  {
   "cell_type": "code",
   "execution_count": 79,
   "metadata": {},
   "outputs": [
    {
     "name": "stdout",
     "output_type": "stream",
     "text": [
      "Original Array : array('i', [7, 8, 9, 10])\n",
      "String as an array of machine values:  b'0700000008000000090000000a000000'\n"
     ]
    }
   ],
   "source": [
    "# Python program to read a string and interpreting the string as an array of machine values\n",
    "from array import array\n",
    "import binascii\n",
    "\n",
    "arr1 = array('i',[7,8,9,10])\n",
    "print(\"Original Array :\",arr1)\n",
    "print(\"String as an array of machine values: \",binascii.hexlify(arr1.tobytes()))"
   ]
  },
  {
   "cell_type": "markdown",
   "metadata": {},
   "source": [
    "Q6. Write the Python program to push three items into the heap and\n",
    "return the smallest item from the heap. Also, return and pop the\n",
    "smallest item from the heap?\n",
    "    \n",
    "    Expected OutputItems in the heap-\n",
    "    ('VI', 1).\n",
    "    ('VII', 3).\n",
    "    ('VIII', 2).\n",
    "    ----------------------\n",
    "    The smallest item in the heap:\n",
    "    ('VI', 1).\n",
    "     ----------------------\n",
    "    Pop the smallest item in the heap:\n",
    "    ('VII', 2).\n",
    "    ('VIII', 3)."
   ]
  },
  {
   "cell_type": "code",
   "execution_count": 80,
   "metadata": {},
   "outputs": [
    {
     "name": "stdout",
     "output_type": "stream",
     "text": [
      "Items in the heap:\n",
      "('VI', 1)\n",
      "('VII', 3)\n",
      "('VIII', 2)\n",
      "\n",
      "The Smallest in the heap is : ('VI', 1)\n",
      "\n",
      "Pop the Smallest item in the heap:\n",
      "('VII', 3)\n",
      "('VIII', 2)\n"
     ]
    }
   ],
   "source": [
    "# Python program to push three items into the heap and return the smallest item from the heap. Also, return and pop the\n",
    "#smallest item from the heap\n",
    "\n",
    "import heapq\n",
    "heapSample = []\n",
    "\n",
    "heapq.heappush(heapSample,('VI', 1))\n",
    "heapq.heappush(heapSample,('VII', 3))\n",
    "heapq.heappush(heapSample,('VIII', 2))\n",
    "\n",
    "print(\"Items in the heap:\")\n",
    "for item in heapSample:\n",
    "    print(item)\n",
    "    \n",
    "print(\"\\nThe Smallest in the heap is :\",heapSample[0])\n",
    "\n",
    "print(\"\\nPop the Smallest item in the heap:\")\n",
    "heapq.heappop(heapSample)\n",
    "for item in heapSample:\n",
    "    print(item)\n"
   ]
  },
  {
   "cell_type": "markdown",
   "metadata": {},
   "source": [
    "Q7. Write the Python program to locate the left insertion point for a\n",
    "specified value in sorted order?\n",
    "\n",
    "    Expected Output:\n",
    "    4\n",
    "    2"
   ]
  },
  {
   "cell_type": "code",
   "execution_count": 81,
   "metadata": {},
   "outputs": [
    {
     "name": "stdout",
     "output_type": "stream",
     "text": [
      "4\n",
      "2\n"
     ]
    }
   ],
   "source": [
    "#Python program to locate the left insertion point for a specified value in sorted order\n",
    "\n",
    "import bisect\n",
    "def indLocInsert(lst, ele):\n",
    "    indx = bisect.bisect_left(lst,ele)\n",
    "    return indx\n",
    "\n",
    "lst = [5,6,8,9,11]\n",
    "\n",
    "print(indLocInsert(lst,10))\n",
    "print(indLocInsert(lst,7))\n",
    "    "
   ]
  },
  {
   "cell_type": "markdown",
   "metadata": {},
   "source": [
    "Q8. Write the Python program to create the FIFO queue?\n",
    "\n",
    "    Expected Output:\n",
    "    0 1 2 3"
   ]
  },
  {
   "cell_type": "code",
   "execution_count": 82,
   "metadata": {},
   "outputs": [
    {
     "name": "stdout",
     "output_type": "stream",
     "text": [
      "The FIFO elements are :\n",
      "0 1 2 3 "
     ]
    }
   ],
   "source": [
    "#Python program to create the FIFO (First In First Out) Queue\n",
    "import queue\n",
    "que = queue.Queue()\n",
    "\n",
    "for ele in range(4):\n",
    "    que.put(str(ele))\n",
    "\n",
    "print(\"The FIFO elements are :\")\n",
    "while not que.empty():\n",
    "    print(que.get(), end =\" \")\n",
    "    \n"
   ]
  },
  {
   "cell_type": "markdown",
   "metadata": {},
   "source": [
    "Q9. Write the Python program to calculate the harmonic sum of n-1.\n",
    " Note: The harmonic sum is the sum of reciprocals of the positive\n",
    "Integers?\n",
    "\n",
    "    Example:\n",
    "    1+1/2+1/3+1/4+1/5+...."
   ]
  },
  {
   "cell_type": "code",
   "execution_count": 83,
   "metadata": {},
   "outputs": [
    {
     "name": "stdout",
     "output_type": "stream",
     "text": [
      "2.4499999999999997\n"
     ]
    }
   ],
   "source": [
    "#Python program to calculate the harmonic sum of n-1. Note: The harmonic sum is the sum of reciprocals of the positive Integers\n",
    "\n",
    "def harmonic_sum_fun(n):\n",
    "    if n<2:\n",
    "        return 1\n",
    "    else:\n",
    "        return (1/n + (harmonic_sum_fun(n-1)))\n",
    "    \n",
    "print(harmonic_sum_fun(6))  # Assuming the n is 6"
   ]
  },
  {
   "cell_type": "markdown",
   "metadata": {},
   "source": [
    "## Great Job!"
   ]
  }
 ],
 "metadata": {
  "kernelspec": {
   "display_name": "Python 3",
   "language": "python",
   "name": "python3"
  },
  "language_info": {
   "codemirror_mode": {
    "name": "ipython",
    "version": 3
   },
   "file_extension": ".py",
   "mimetype": "text/x-python",
   "name": "python",
   "nbconvert_exporter": "python",
   "pygments_lexer": "ipython3",
   "version": "3.7.4"
  }
 },
 "nbformat": 4,
 "nbformat_minor": 2
}
