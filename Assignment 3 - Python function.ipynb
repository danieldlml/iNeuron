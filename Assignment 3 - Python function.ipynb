{
 "cells": [
  {
   "cell_type": "markdown",
   "metadata": {},
   "source": [
    "## Problem Statement"
   ]
  },
  {
   "cell_type": "markdown",
   "metadata": {},
   "source": [
    "Q.1 Write a function to compute 5/0 and use try/except to catch the exceptions."
   ]
  },
  {
   "cell_type": "code",
   "execution_count": 1,
   "metadata": {},
   "outputs": [
    {
     "data": {
      "text/plain": [
       "0"
      ]
     },
     "execution_count": 1,
     "metadata": {},
     "output_type": "execute_result"
    }
   ],
   "source": [
    "def divZeroFun(a,b):\n",
    "    try:\n",
    "        return a/b\n",
    "    except ZeroDivisionError:\n",
    "        return 0\n",
    "    \n",
    "#divZeroFun(8,4)\n",
    "divZeroFun(8,0)"
   ]
  },
  {
   "cell_type": "markdown",
   "metadata": {},
   "source": [
    "Q.2 Implement a Python program to generate all sentences where subject is in [\"Americans\",\n",
    "\"Indians\"] and verb is in [\"Play\", \"watch\"] and the object is in [\"Baseball\",\"cricket\"].\n",
    "\n",
    "    Hint: Subject,Verb and Object should be declared in the program as shown below.\n",
    "    subjects=[\"Americans \",\"Indians\"]\n",
    "    verbs=[\"play\",\"watch\"]\n",
    "    objects=[\"Baseball\",\"Cricket\"]\n",
    "\n",
    "    Output should come as below:\n",
    "    Americans play Baseball.\n",
    "    Americans play Cricket.\n",
    "    Americans watch Baseball.\n",
    "    Americans watch Cricket.\n",
    "    Indians play Baseball.\n",
    "    Indians play Cricket.\n",
    "    Indians watch Baseball.\n",
    "    Indians watch Cricket."
   ]
  },
  {
   "cell_type": "code",
   "execution_count": 2,
   "metadata": {},
   "outputs": [
    {
     "name": "stdout",
     "output_type": "stream",
     "text": [
      "Americans Play Baseball\n",
      "Americans Play cricket\n",
      "Americans watch Baseball\n",
      "Americans watch cricket\n",
      "Indians Play Baseball\n",
      "Indians Play cricket\n",
      "Indians watch Baseball\n",
      "Indians watch cricket\n"
     ]
    }
   ],
   "source": [
    "subject=[\"Americans\", \"Indians\"]\n",
    "verb=[\"Play\", \"watch\"]\n",
    "obj=[\"Baseball\",\"cricket\"]\n",
    "\n",
    "# Use list comprehension instead of looping over each of the predicates\n",
    "sen_list = [(sb+\" \"+ vb + \" \" + ob) for sb in subject for vb in verb for ob in obj]\n",
    "for sen in sen_list:\n",
    " print (sen)"
   ]
  },
  {
   "cell_type": "markdown",
   "metadata": {},
   "source": [
    "Q.3 Write a function so that the columns of the output matrix are powers of the input vector.\n",
    "The order of the powers is determined by the increasing boolean argument. Specifically, when\n",
    "increasing is False, the i-th output column is the input vector raised element-wise to the power\n",
    "of N - i - 1.\n",
    "\n",
    "    HINT: Such a matrix with a geometric progression in each row is named for Alexandre Theophile Vandermonde."
   ]
  },
  {
   "cell_type": "code",
   "execution_count": 3,
   "metadata": {},
   "outputs": [
    {
     "name": "stdout",
     "output_type": "stream",
     "text": [
      "The Input Array is: [0 2 4 6 8] \n",
      "\n",
      "Number of Columns in Output Matrix is: 4 \n",
      "\n",
      "Alexandre Theophile Vandermonde Matrix in Decreasing Order Of Powers :\n",
      "\n",
      " [[  0   0   0   1]\n",
      " [  8   4   2   1]\n",
      " [ 64  16   4   1]\n",
      " [216  36   6   1]\n",
      " [512  64   8   1]] \n",
      "\n",
      "Alexandre Theophile Vandermonde matrix in Increasing Order Of Powers :\n",
      "\n",
      " [[  1   0   0   0]\n",
      " [  1   2   4   8]\n",
      " [  1   4  16  64]\n",
      " [  1   6  36 216]\n",
      " [  1   8  64 512]] \n",
      "\n"
     ]
    }
   ],
   "source": [
    "\n",
    "#Python method to display the matrix with a geometric progression in each row (Alexandre Theophile Vandermonde)\n",
    "import numpy as np\n",
    "\n",
    "def gen_vandermonde_matrix_fun(ip_vector, n, increasing=False):\n",
    "    \n",
    "    if not increasing:\n",
    "        op_matx = np.array([x**(n-1-i) for x in ip_vector for i in range(n)]).reshape(ip_vector.size,n)\n",
    "        \n",
    "    elif increasing:\n",
    "        op_matx = np.array([x**i for x in ip_vector for i in range(n)]).reshape(ip_vector.size,n)\n",
    "    \n",
    "    return op_matx\n",
    "\n",
    "ip_vector = np.array([0,2,4,6,8])\n",
    "columns_num_op = 4\n",
    "matrix_dec_ordr_op = gen_vandermonde_matrix_fun(ip_vector,columns_num_op,False)\n",
    "matrix_asc_ordr_op = gen_vandermonde_matrix_fun(ip_vector,columns_num_op,True)\n",
    "\n",
    "print(\"The Input Array is:\",ip_vector,\"\\n\")\n",
    "print(\"Number of Columns in Output Matrix is:\",columns_num_op,\"\\n\")\n",
    "print(\"Alexandre Theophile Vandermonde Matrix in Decreasing Order Of Powers :\\n\\n\",matrix_dec_ordr_op,\"\\n\")\n",
    "print(\"Alexandre Theophile Vandermonde matrix in Increasing Order Of Powers :\\n\\n\",matrix_asc_ordr_op,\"\\n\")"
   ]
  }
 ],
 "metadata": {
  "kernelspec": {
   "display_name": "Python 3",
   "language": "python",
   "name": "python3"
  },
  "language_info": {
   "codemirror_mode": {
    "name": "ipython",
    "version": 3
   },
   "file_extension": ".py",
   "mimetype": "text/x-python",
   "name": "python",
   "nbconvert_exporter": "python",
   "pygments_lexer": "ipython3",
   "version": "3.7.4"
  }
 },
 "nbformat": 4,
 "nbformat_minor": 2
}
