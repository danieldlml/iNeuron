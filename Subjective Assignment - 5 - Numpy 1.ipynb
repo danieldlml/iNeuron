{
 "cells": [
  {
   "cell_type": "markdown",
   "metadata": {},
   "source": [
    "# Assignment"
   ]
  },
  {
   "cell_type": "markdown",
   "metadata": {},
   "source": [
    "Q1. Write the NumPy program to create a 2d array with 6 on the border\n",
    "and 0 inside?\n",
    "\n",
    "    Expected OutputOriginal array-\n",
    "    [ [6 6 6 6 6]\n",
    "     [ 6 6 6 6 6]\n",
    "     [ 6 6 6 6 6 ]\n",
    "    [ 6 6 6 6 6 ]\n",
    "    [ 6 6 6 6 ] ].\n",
    "    6 on the border and 0 inside in the array-\n",
    "    [[ 6 6 6 6 6]\n",
    "    [ 6 0 0 0 6]\n",
    "    [ 6 0 0 0 6]\n",
    "    [ 6 0 0 0 6]\n",
    "    [ 6 6 6 6 6]]."
   ]
  },
  {
   "cell_type": "code",
   "execution_count": 28,
   "metadata": {},
   "outputs": [
    {
     "data": {
      "text/plain": [
       "array([[6, 6, 6, 6, 6, 6],\n",
       "       [6, 0, 0, 0, 0, 6],\n",
       "       [6, 0, 0, 0, 0, 6],\n",
       "       [6, 0, 0, 0, 0, 6],\n",
       "       [6, 6, 6, 6, 6, 6]])"
      ]
     },
     "execution_count": 28,
     "metadata": {},
     "output_type": "execute_result"
    }
   ],
   "source": [
    "# NumPy program to create a 2d array with 6 on the border and 0 inside\n",
    "import numpy as np\n",
    "zeroInsideMat = np.array([[6,6,6,6,6,6],[6,6,6,6,6,6],[6,6,6,6,6,6],[6,6,6,6,6,6],[6,6,6,6,6,6]])\n",
    "zeroInsideMat[1:-1,1:-1]=0\n",
    "zeroInsideMat"
   ]
  },
  {
   "cell_type": "markdown",
   "metadata": {},
   "source": [
    "Q2. Write the NumPy program to create a 8x8 matrix and fill it with the\n",
    "checkerboard pattern?\n",
    "    \n",
    "    Checkerboard pattern-\n",
    "    [[3 9 3 9 3 9 3 9]\n",
    "    [9 3 9 3 9 3 9 3]\n",
    "    [3 9 3 9 3 9 3 9]\n",
    "    [9 3 9 3 9 3 9 3]\n",
    "    [3 9 3 9 3 9 3 9]\n",
    "    [9 3 9 3 9 3 9 3]\n",
    "    [3 9 3 9 3 9 3 9]\n",
    "    [9 3 9 3 9 3 9 3]]."
   ]
  },
  {
   "cell_type": "code",
   "execution_count": 29,
   "metadata": {},
   "outputs": [
    {
     "data": {
      "text/plain": [
       "array([[3, 9, 3, 9, 3, 9, 3, 9],\n",
       "       [9, 3, 9, 3, 9, 3, 9, 3],\n",
       "       [3, 9, 3, 9, 3, 9, 3, 9],\n",
       "       [9, 3, 9, 3, 9, 3, 9, 3],\n",
       "       [3, 9, 3, 9, 3, 9, 3, 9],\n",
       "       [9, 3, 9, 3, 9, 3, 9, 3],\n",
       "       [3, 9, 3, 9, 3, 9, 3, 9],\n",
       "       [9, 3, 9, 3, 9, 3, 9, 3]])"
      ]
     },
     "execution_count": 29,
     "metadata": {},
     "output_type": "execute_result"
    }
   ],
   "source": [
    "#NumPy program to create a 8x8 matrix and fill it with the checkerboard pattern\n",
    "\n",
    "checkerBoardMat = np.ones((8,8), dtype=int)\n",
    "\n",
    "checkerBoardMat[::2,::2]=3\n",
    "checkerBoardMat[1::2,::2]=9\n",
    "checkerBoardMat[::2,1::2]=9\n",
    "checkerBoardMat[1::2,1::2]=3\n",
    "checkerBoardMat\n",
    "#print('Print the Checker Board Matrix:\\n',checkerBoardMat)"
   ]
  },
  {
   "cell_type": "markdown",
   "metadata": {},
   "source": [
    "Q3. Write the NumPy program to create an empty and a full array.\n",
    " \n",
    "     Expected Output-\n",
    "    [[4.45057637e-308 1.78021527e-306 8.45549797e-307 1.37962049e-306]\n",
    "    [1.11260619e-306 1.78010255e-306 9.79054228e-307 4.45057637e-308]\n",
    "    [8.45596650e-307 9.34602321e-307 4.94065646e-322 0.00000000e+000]]\n",
    "    [[6 6 6]\n",
    "    [6 6 6]\n",
    "    [6 6 6]]\n"
   ]
  },
  {
   "cell_type": "code",
   "execution_count": 32,
   "metadata": {},
   "outputs": [
    {
     "name": "stdout",
     "output_type": "stream",
     "text": [
      "Print the Empty Matrix: \n",
      " [[9.41027419e-312 2.47032823e-322 0.00000000e+000 0.00000000e+000]\n",
      " [6.23053953e-307 1.33664410e+160 6.20252931e-091 2.32002803e-056]\n",
      " [1.26091092e-076 9.16442913e-072 3.99910963e+252 1.46030983e-319]]\n",
      "\n",
      "Print the Full Array of Matrix: \n",
      " [[6 6 6]\n",
      " [6 6 6]\n",
      " [6 6 6]]\n"
     ]
    }
   ],
   "source": [
    "#NumPy program to create an empty and a full array.\n",
    "\n",
    "print(\"Print the Empty Matrix: \\n\", np.empty((3,4)))\n",
    "a = np.mat('6,6,6;6,6,6;6,6,6')\n",
    "print(\"\\nPrint the Full Array of Matrix: \\n\", a)"
   ]
  },
  {
   "cell_type": "markdown",
   "metadata": {},
   "source": [
    "Q4. Write the NumPy program to convert the values of Centigrade\n",
    "degrees into the Fahrenheit degrees and the centigrade values are\n",
    "stored in the NumPy array.\n",
    "    \n",
    "    Sample Array -[0, 12, 45.21 ,34, 99.91]\n",
    "    Expected OutputValues in Fahrenheit degrees-\n",
    "    [ 0. 12. 45.21 34. 99.91]\n",
    "    Values in Centigrade degrees-\n",
    "    [-17.77777778 -11.11111111 7.33888889 1.11111111 37.72777778]"
   ]
  },
  {
   "cell_type": "code",
   "execution_count": 33,
   "metadata": {},
   "outputs": [
    {
     "name": "stdout",
     "output_type": "stream",
     "text": [
      "Values in Fahrenheit degrees-\n",
      " [ 0.   12.   45.21 34.   99.91]\n",
      "Values in Centigrade degrees- \n",
      " [-17.77777778 -11.11111111   7.33888889   1.11111111  37.72777778]\n"
     ]
    }
   ],
   "source": [
    "#NumPy program to convert the values of Centigrade degrees into the Fahrenheit degrees and the centigrade values are stored in the NumPy array.\n",
    "\n",
    "import numpy as np\n",
    "fahrenheit_values = [0, 12, 45.21 ,34, 99.91]\n",
    "fah = np.array(fahrenheit_values)\n",
    "print(\"Values in Fahrenheit degrees-\\n\",fah)\n",
    "print(\"Values in Centigrade degrees- \\n\",5*fah/9 - 5*32/9)\n"
   ]
  },
  {
   "cell_type": "markdown",
   "metadata": {},
   "source": [
    "Q5. Write the NumPy program to find the real and imaginary parts of an\n",
    "array of complex numbers?\n",
    "\n",
    "    Expected OutputOriginal array [ 1.00000000+0.j 0.70710678+0.70710678j]\n",
    "    Real part of the array-\n",
    "    [ 1. 0.70710678]\n",
    "    Imaginary part of the array-\n",
    "    [ 0. 0.70710678]"
   ]
  },
  {
   "cell_type": "code",
   "execution_count": 34,
   "metadata": {},
   "outputs": [
    {
     "name": "stdout",
     "output_type": "stream",
     "text": [
      "The Original Array : \n",
      " [[1.        +0.j        ]\n",
      " [0.70710678+0.70710678j]]\n",
      "Real Part of the Array: \n",
      " [[1.        ]\n",
      " [0.70710678]]\n",
      "Imaginary Part of the Array: \n",
      " [[0.        ]\n",
      " [0.70710678]]\n"
     ]
    }
   ],
   "source": [
    "#NumPy program to find the real and imaginary parts of an array of complex numbers?\n",
    "\n",
    "import numpy as np\n",
    "\n",
    "x = np.sqrt([1+0j])\n",
    "y = np.sqrt([0+1j])\n",
    "z =  np.array([x,y])\n",
    "\n",
    "print('The Original Array : \\n',z)\n",
    "print('Real Part of the Array: \\n',z.real)\n",
    "\n",
    "print('Imaginary Part of the Array: \\n',z.imag)"
   ]
  },
  {
   "cell_type": "markdown",
   "metadata": {},
   "source": [
    "Q6. Write the NumPy program to test whether each element of a 1-D\n",
    "array is also present in the second array?\n",
    "\n",
    "    Expected OutputArray1: [ 0 10 20 40 60]\n",
    "    Array2: [0, 40]\n",
    "    Compare each element of array1 and array2\n",
    "    [ True False False True False]\n"
   ]
  },
  {
   "cell_type": "code",
   "execution_count": 35,
   "metadata": {},
   "outputs": [
    {
     "name": "stdout",
     "output_type": "stream",
     "text": [
      "Array 1 : [0, 10, 20, 40, 60] \n",
      "Array 2:  [0, 40]\n",
      "Compare each element of array1 and array2\n",
      " [ True False False  True False]\n"
     ]
    }
   ],
   "source": [
    "#NumPy program to test whether each element of a 1-D array is also present in the second array\n",
    "\n",
    "import numpy as np\n",
    "arr1 = [0, 10, 20, 40, 60]\n",
    "arr2 = [0, 40]\n",
    "\n",
    "print(\"Array 1 :\",arr1,\"\\nArray 2: \",arr2)\n",
    "\n",
    "print('Compare each element of array1 and array2\\n',np.in1d(arr1,arr2))"
   ]
  },
  {
   "cell_type": "markdown",
   "metadata": {},
   "source": [
    "Q7. Write the NumPy program to find common values between two\n",
    "arrays?\n",
    "    \n",
    "    Expected OutputArray1: [ 0 10 20 40 60]\n",
    "    Array2: [10, 30, 40]\n",
    "    Common values between two arrays-\n",
    "    [10 40]"
   ]
  },
  {
   "cell_type": "code",
   "execution_count": 36,
   "metadata": {},
   "outputs": [
    {
     "name": "stdout",
     "output_type": "stream",
     "text": [
      "Array 1 : [0, 10, 20, 40, 60] \n",
      "Array 2:  [10, 30, 40]\n",
      "Common values between two arrays\n",
      " [10 40]\n"
     ]
    }
   ],
   "source": [
    "#NumPy program to find common values between two arrays\n",
    "\n",
    "import numpy as np\n",
    "arr1 = [0, 10, 20, 40, 60]\n",
    "arr2 = [10, 30, 40]\n",
    "\n",
    "print(\"Array 1 :\",arr1,\"\\nArray 2: \",arr2)\n",
    "\n",
    "print('Common values between two arrays\\n',np.intersect1d(arr1,arr2))"
   ]
  },
  {
   "cell_type": "markdown",
   "metadata": {},
   "source": [
    "Q8. Write the NumPy program to get the unique elements of an array?\n",
    "\n",
    "    Expected OutputOriginal array-\n",
    "    [10 10 20 20 30 30]\n",
    "    Unique elements of the above array-\n",
    "    [10 20 30]\n",
    "    P a g e 14 | 44\n",
    "    Original array-\n",
    "    [[1 1]\n",
    "    [2 3]]\n",
    "    Unique elements of the above array-\n",
    "    [1 2 3]"
   ]
  },
  {
   "cell_type": "code",
   "execution_count": 37,
   "metadata": {},
   "outputs": [
    {
     "name": "stdout",
     "output_type": "stream",
     "text": [
      "Orininal array 1 -\n",
      " [10 10 20 20 30 30]\n",
      "Unique elements of the above array:\n",
      " [10 20 30]\n",
      "\n",
      "Original array 2 -\n",
      " [[1 1]\n",
      " [2 3]]\n",
      "Unique elements of the above array-\n",
      " [1 2 3]\n"
     ]
    }
   ],
   "source": [
    "#NumPy program to get the unique elements of an array\n",
    "\n",
    "import numpy as np\n",
    "ori_arr1 = np.array([10,10,20,20,30,30])\n",
    "\n",
    "print(\"Orininal array 1 -\\n\",ori_arr1)\n",
    "\n",
    "print('Unique elements of the above array:\\n',np.unique(ori_arr1))\n",
    "\n",
    "ori_arr2 = np.array([[1,1],[2,3]])\n",
    "print('\\nOriginal array 2 -\\n',ori_arr2)\n",
    "print('Unique elements of the above array-\\n',np.unique(ori_arr2))"
   ]
  },
  {
   "cell_type": "markdown",
   "metadata": {},
   "source": [
    "Q9. Write the NumPy program to find the set exclusive-or of two arrays.\n",
    "Set exclusive-or will return the sorted, unique values that are in\n",
    "only one (not both) of the input arrays?\n",
    "\n",
    "    Array1- [ 0 10 20 40 60 80]\n",
    "    Array2- [10, 30, 40, 50, 70]\n",
    "    Unique values that are in only one (not both) of the input arrays-\n",
    "    [ 0 20 30 50 60 70 80]"
   ]
  },
  {
   "cell_type": "code",
   "execution_count": 40,
   "metadata": {},
   "outputs": [
    {
     "name": "stdout",
     "output_type": "stream",
     "text": [
      "Array 1- [ 0 10 20 40 60 80]\n",
      "Array 2- [10 30 40 50 70]\n",
      "\n",
      "Unique values that in only one (not both) of the input arrays-\n",
      " [ 0 20 60 80]\n"
     ]
    }
   ],
   "source": [
    "#NumPy program to find the set exclusive-or of two arrays.Set exclusive-or will return the sorted, unique values that are in only one (not both) of the input arrays\n",
    "\n",
    "import numpy as np\n",
    "arr1 = np.array([0,10,20,40,60,80])\n",
    "print('Array 1-',arr1)\n",
    "arr2 = np.array([10,30,40,50,70])\n",
    "print('Array 2-',arr2)\n",
    "print('\\nUnique values that in only one (not both) of the input arrays-\\n',np.setdiff1d(arr1,arr2))"
   ]
  },
  {
   "cell_type": "markdown",
   "metadata": {},
   "source": [
    "Q10. Write the NumPy program to test if all elements in an array\n",
    "evaluate to True ?\n",
    " \n",
    "Note: 0 evaluates to False in NumPy"
   ]
  },
  {
   "cell_type": "code",
   "execution_count": 41,
   "metadata": {},
   "outputs": [
    {
     "name": "stdout",
     "output_type": "stream",
     "text": [
      "False\n",
      "True\n",
      "True\n",
      "False\n"
     ]
    }
   ],
   "source": [
    "#NumPy program to test if all elements in an array evaluate to True \n",
    "\n",
    "import numpy as np\n",
    "\n",
    "print(np.all([[True,True],[False,True]])) # one element as False\n",
    "print(np.all([[True,True],[True,True]]))\n",
    "print(np.all([50, -70, 40, 100]))\n",
    "print(np.all([0, 20, -50])) # 0 has one of the element"
   ]
  },
  {
   "cell_type": "markdown",
   "metadata": {},
   "source": [
    "Q11. Write the NumPy program to test whether any array element along\n",
    "the given axis evaluates to True?\n",
    " \n",
    "Note: 0 evaluates to False in NumPy"
   ]
  },
  {
   "cell_type": "code",
   "execution_count": 42,
   "metadata": {},
   "outputs": [
    {
     "name": "stdout",
     "output_type": "stream",
     "text": [
      "True\n",
      "False\n",
      "True\n",
      "True\n"
     ]
    }
   ],
   "source": [
    "#NumPy program to test whether any array element along the given axis evaluates to True\n",
    "\n",
    "import numpy as np\n",
    "\n",
    "print(np.any([[True,True],[True,True]]))\n",
    "print(np.any([[False,False],[False,False]]))\n",
    "\n",
    "print(np.any([70, -40, 0, 30]))\n",
    "print(np.any([20, 40, -80]))"
   ]
  },
  {
   "cell_type": "markdown",
   "metadata": {},
   "source": [
    "Q12. Write the NumPy program to construct an array by repeating?\n",
    "\n",
    "    Sample array- [1, 2, 3, 4]\n",
    "    Expected OutputOriginal array\n",
    "    [1, 2, 3, 4]\n",
    "    Repeating 2 times\n",
    "    [1 2 3 4 1 2 3 4]\n",
    "    Repeating 3 times\n",
    "    [1 2 3 4 1 2 3 4 1 2 3 4]"
   ]
  },
  {
   "cell_type": "code",
   "execution_count": 43,
   "metadata": {},
   "outputs": [
    {
     "name": "stdout",
     "output_type": "stream",
     "text": [
      "Original Array-\n",
      " [1, 2, 3, 4]\n",
      "Repeating 2 times-\n",
      " [1 2 3 4 1 2 3 4]\n",
      "Repeating 3 times -\n",
      " [1 2 3 4 1 2 3 4 1 2 3 4]\n"
     ]
    }
   ],
   "source": [
    "#NumPy program to construct an array by repeating\n",
    "\n",
    "import numpy as np\n",
    "\n",
    "arr = [1,2,3,4]\n",
    "print('Original Array-\\n',arr)\n",
    "print('Repeating 2 times-\\n',np.tile(arr,2))\n",
    "print('Repeating 3 times -\\n',np.tile(arr,3))"
   ]
  },
  {
   "cell_type": "markdown",
   "metadata": {},
   "source": [
    "Q13. Write the NumPy program to find the indices of the maximum and\n",
    "minimum values with the given axis of an array?\n",
    "\n",
    "    Original array- [1 2 3 4 5 6]\n",
    "    Maximum Values- 5\n",
    "    Minimum Values- 0"
   ]
  },
  {
   "cell_type": "code",
   "execution_count": 44,
   "metadata": {},
   "outputs": [
    {
     "name": "stdout",
     "output_type": "stream",
     "text": [
      "Original Array :\n",
      " [1 2 3 4 5 6]\n",
      "Maximum Values :\n",
      " 5\n",
      "Minimum Values :\n",
      " 0\n"
     ]
    }
   ],
   "source": [
    "#NumPy program to find the indices of the maximum and minimum values with the given axis of an array\n",
    "\n",
    "import numpy as np\n",
    "\n",
    "arr = np.array([1,2,3,4,5,6])\n",
    "\n",
    "print('Original Array :\\n',arr)\n",
    "print('Maximum Values :\\n',np.argmax(arr))\n",
    "print('Minimum Values :\\n',np.argmin(arr))\n"
   ]
  },
  {
   "cell_type": "markdown",
   "metadata": {},
   "source": [
    "Q14. Write the NumPy program compare two arrays using numpy?\n",
    "\n",
    "    Array a- [1 2]\n",
    "    Array b- [4 5]\n",
    "    a > b\n",
    "    [False False]\n",
    "    a >= b\n",
    "    [False False]\n",
    "    a < b\n",
    "    [ True True]\n",
    "    a <= b\n",
    "    [ True True]\n"
   ]
  },
  {
   "cell_type": "code",
   "execution_count": 45,
   "metadata": {},
   "outputs": [
    {
     "name": "stdout",
     "output_type": "stream",
     "text": [
      "Array a:  [1 2]\n",
      "Array b:  [4 5]\n",
      "a > b\n",
      "[False False]\n",
      "a >= b\n",
      "[False False]\n",
      "a < b\n",
      "[ True  True]\n",
      "a <= b\n",
      "[ True  True]\n"
     ]
    }
   ],
   "source": [
    "#NumPy program compare two arrays using numpy\n",
    "\n",
    "import numpy as np\n",
    "\n",
    "arr1 = np.array([1, 2])\n",
    "arr2 = np.array([4, 5])\n",
    "\n",
    "print(\"Array a: \",arr1)\n",
    "print(\"Array b: \",arr2)\n",
    "print(\"a > b\")\n",
    "print(np.greater(arr1,arr2))\n",
    "print(\"a >= b\")\n",
    "print(np.greater_equal(arr1,arr2))\n",
    "print(\"a < b\")\n",
    "print(np.less(arr1,arr2))\n",
    "print(\"a <= b\")\n",
    "print(np.less_equal(arr1,arr2))"
   ]
  },
  {
   "cell_type": "markdown",
   "metadata": {},
   "source": [
    "Q15. Write the NumPy program to sort an along the first, last axis of an\n",
    "array?\n",
    "\n",
    "    Sample array- [[2,5],[4,4]]\n",
    "    Expected OutputOriginal array:\n",
    "    [[4 6]\n",
    "    [2 1]]\n",
    "    Sort along the first axis:\n",
    "    [[2 1]\n",
    "    [4 6]]\n",
    "    Sort along the last axis-\n",
    "    [[1 2]\n",
    "    [4 6]]"
   ]
  },
  {
   "cell_type": "code",
   "execution_count": 46,
   "metadata": {},
   "outputs": [
    {
     "name": "stdout",
     "output_type": "stream",
     "text": [
      "Original array: \n",
      "\n",
      "[[4 6]\n",
      " [2 1]]\n",
      "\n",
      "Sort along the first axis- \n",
      "[[2 1]\n",
      " [4 6]]\n",
      "\n",
      "Sort along the last axis- \n",
      "[[1 2]\n",
      " [4 6]]\n"
     ]
    }
   ],
   "source": [
    "import numpy as np\n",
    "arr = np.array([[4, 6],[2, 1]])\n",
    "print(\"Original array: \\n\")\n",
    "print(arr)\n",
    "print(\"\\nSort along the first axis- \")\n",
    "x = np.sort(arr, axis=0)\n",
    "print(x)\n",
    "print(\"\\nSort along the last axis- \")\n",
    "y = np.sort(x, axis=1)\n",
    "print(y)"
   ]
  },
  {
   "cell_type": "markdown",
   "metadata": {},
   "source": [
    "Q16. Write the NumPy program to sort pairs of first name and last name\n",
    "return their indices (first by last name, then by first name).\n",
    "\n",
    "    first_names - ( Betsey, Shelley, Lanell, Genesis, Margery )\n",
    "    last_names - ( Battle, Brien, Plotner, Stahl, Woolum )\n",
    "    Expected Output-\n",
    "    [1 3 2 4 0]"
   ]
  },
  {
   "cell_type": "code",
   "execution_count": 47,
   "metadata": {},
   "outputs": [
    {
     "name": "stdout",
     "output_type": "stream",
     "text": [
      "[1 3 2 4 0]\n"
     ]
    }
   ],
   "source": [
    "#NumPy program to sort pairs of first name and last name return their indices (first by last name, then by first name).\n",
    "\n",
    "import numpy as np\n",
    "\n",
    "fnames =    ('Margery', 'Betsey', 'Shelley', 'Lanell', 'Genesis')\n",
    "lnames = ('Woolum', 'Battle', 'Plotner', 'Brien', 'Stahl')\n",
    "\n",
    "ind = np.lexsort((fnames,lnames))\n",
    "print(ind)"
   ]
  },
  {
   "cell_type": "markdown",
   "metadata": {},
   "source": [
    "Q17. Write the NumPy program to get the values and indices of the\n",
    "elements that are bigger than 10 in the given array?\n",
    "\n",
    "    Original array-\n",
    "    [[ 0 10 20]\n",
    "    [20 30 40]]\n",
    "    Values bigger than 10 = [20 20 30 40]\n",
    "    Their indices are (array([0, 1, 1, 1]), array([2, 0, 1, 2]))"
   ]
  },
  {
   "cell_type": "code",
   "execution_count": 49,
   "metadata": {},
   "outputs": [
    {
     "name": "stdout",
     "output_type": "stream",
     "text": [
      "Original array:  [[ 0 10 20]\n",
      " [20 30 40]]\n",
      "Values bigger than 10 = [20 20 30 40]\n",
      "Their indices are  (array([0, 1, 1, 1], dtype=int64), array([2, 0, 1, 2], dtype=int64))\n"
     ]
    }
   ],
   "source": [
    "#NumPy program to get the values and indices of the elements that are bigger than 10 in the given array\n",
    "\n",
    "import numpy as np\n",
    "\n",
    "arr = np.array([[0, 10, 20], [20, 30, 40]])\n",
    "print(\"Original array: \",arr)\n",
    "\n",
    "print(\"Values bigger than 10 =\", arr[arr>10])\n",
    "print(\"Their indices are \", np.nonzero(arr > 10))\n"
   ]
  },
  {
   "cell_type": "markdown",
   "metadata": {},
   "source": [
    "Q18. Write the NumPy program to find the memory size of a NumPy\n",
    "array?\n",
    "\n",
    "    Expected Output128 bytes\n"
   ]
  },
  {
   "cell_type": "code",
   "execution_count": 50,
   "metadata": {},
   "outputs": [
    {
     "name": "stdout",
     "output_type": "stream",
     "text": [
      "128 bytes\n"
     ]
    }
   ],
   "source": [
    "#NumPy program to find the memory size of a NumPy array\n",
    "\n",
    "import numpy as np\n",
    "\n",
    "mem = np.zeros((4,4))\n",
    "print(\"%d bytes\" % (mem.size * mem.itemsize))"
   ]
  }
 ],
 "metadata": {
  "kernelspec": {
   "display_name": "Python 3",
   "language": "python",
   "name": "python3"
  },
  "language_info": {
   "codemirror_mode": {
    "name": "ipython",
    "version": 3
   },
   "file_extension": ".py",
   "mimetype": "text/x-python",
   "name": "python",
   "nbconvert_exporter": "python",
   "pygments_lexer": "ipython3",
   "version": "3.7.4"
  }
 },
 "nbformat": 4,
 "nbformat_minor": 2
}
