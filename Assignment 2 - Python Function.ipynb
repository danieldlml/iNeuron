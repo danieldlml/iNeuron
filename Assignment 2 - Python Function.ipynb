{
 "cells": [
  {
   "cell_type": "markdown",
   "metadata": {},
   "source": [
    "## Problem Statement"
   ]
  },
  {
   "cell_type": "markdown",
   "metadata": {},
   "source": [
    "Q.1 Write a Python Program to implement your own myreduce() function which works exactly like\n",
    "Python's built-in function reduce()\n"
   ]
  },
  {
   "cell_type": "code",
   "execution_count": 1,
   "metadata": {},
   "outputs": [
    {
     "data": {
      "text/plain": [
       "3"
      ]
     },
     "execution_count": 1,
     "metadata": {},
     "output_type": "execute_result"
    }
   ],
   "source": [
    "#To display the minimum element in the list with reduce custom function\n",
    "def myreduce(arg):\n",
    "    listResults = arg[0]\n",
    "    for i in arg:\n",
    "        listResults = min(listResults,i) # min function\n",
    "    return listResults\n",
    "\n",
    "#Initialize the list for parameter argument. \n",
    "lst = [4,6,8,3,4,6,9]\n",
    "\n",
    "# Invoke the myreduce function\n",
    "myreduce(lst)"
   ]
  },
  {
   "cell_type": "markdown",
   "metadata": {},
   "source": [
    "Q.2 Write a Python program to implement your own myfilter() function which works exactly like\n",
    "Python's built-in function filter()"
   ]
  },
  {
   "cell_type": "code",
   "execution_count": 2,
   "metadata": {},
   "outputs": [
    {
     "name": "stdout",
     "output_type": "stream",
     "text": [
      "[1, 3, 5, 7, 9, 11, 13, 15, 17, 19, 21, 23, 25, 27, 29]\n"
     ]
    }
   ],
   "source": [
    "#To print the odd numbers with myfilter custom function\n",
    "def myfilter(lstRng, func):\n",
    "    resLst = []\n",
    "    for element in lstRng:\n",
    "        if func(element):\n",
    "            resLst.append(element)\n",
    "    return resLst\n",
    "# Parameters initialization\n",
    "func = lambda num: num%2 != 0\n",
    "lstRng = range(30)  # Upto 30 numbers\n",
    "#Invoke the myfilter function\n",
    "print(myfilter(lstRng, func))"
   ]
  },
  {
   "cell_type": "markdown",
   "metadata": {},
   "source": [
    "Q.3 Implement List comprehensions to produce the following lists.\n",
    "   Write List comprehensions to produce the following Lists\n",
    "   \n",
    "    ['A', 'C', 'A', 'D', 'G', 'I', ’L’, ‘ D’]\n",
    "   \n",
    "    ['x', 'xx', 'xxx', 'xxxx', 'y', 'yy', 'yyy', 'yyyy', 'z', 'zz', 'zzz', 'zzzz']\n",
    "\n",
    "    ['x', 'y', 'z', 'xx', 'yy', 'zz', 'xx', 'yy', 'zz', 'xxxx', 'yyyy', 'zzzz']\n",
    "    \n",
    "    [[2], [3], [4], [3], [4], [5], [4], [5], [6]]\n",
    "\n",
    "    [[2, 3, 4, 5], [3, 4, 5, 6], [4, 5, 6, 7], [5, 6, 7, 8]]\n",
    "\n",
    "    [(1, 1), (2, 1), (3, 1), (1, 2), (2, 2), (3, 2), (1, 3), (2, 3), (3, 3)]"
   ]
  },
  {
   "cell_type": "code",
   "execution_count": 3,
   "metadata": {},
   "outputs": [
    {
     "name": "stdout",
     "output_type": "stream",
     "text": [
      "['A', 'C', 'A', 'D', 'G', 'I', 'L', 'D']\n",
      "['x', 'xx', 'xxx', 'y', 'yy', 'yyy', 'z', 'zz', 'zzz']\n",
      "['x', 'y', 'z', 'xx', 'yy', 'zz', 'xxxx', 'yyyy', 'zzzz']\n",
      "[[2], [3], [4], [3], [4], [5], [4], [5], [6]]\n",
      "[[2, 3, 4, 5], [3, 4, 5, 6], [4, 5, 6, 7], [5, 6, 7, 8]]\n",
      "[(1, 1), (2, 1), (3, 1), (1, 2), (2, 2), (3, 2), (1, 3), (2, 3), (3, 3)]\n"
     ]
    }
   ],
   "source": [
    "listCompStr = 'ACADGILD'\n",
    "print(list(listCompStr))\n",
    "print([x*y for x in 'xyz' for y in range(1,4)])\n",
    "print([x*(2**y) for y in range(3) for x in 'xyz' ])\n",
    "print([[x+y] for x in range(2,5) for y in range(3)])\n",
    "print([list(range(x, x+4)) for x in range(2,6)])\n",
    "print([(y,x) for x in range(1,4) for y in range(1,4)])"
   ]
  },
  {
   "cell_type": "markdown",
   "metadata": {},
   "source": [
    "Q.4 Implement a function longestWord() that takes a list of words and returns the longest one."
   ]
  },
  {
   "cell_type": "code",
   "execution_count": 4,
   "metadata": {},
   "outputs": [
    {
     "name": "stdout",
     "output_type": "stream",
     "text": [
      "The longest words of User's Sentence is/are: hijkl mnopq rstuv\n"
     ]
    }
   ],
   "source": [
    "#Function to print the longestWord() that takes a list of words and returns the longest one.\n",
    "import string\n",
    "def longestWordFun(usrInput):\n",
    "    wordLen = {}\n",
    "    for word in usrInput.split():\n",
    "        word = word.rstrip(string.punctuation).lower()\n",
    "        if wordLen.get(len(word), 0) == 0:\n",
    "            wordLen[len(word)] = [word]\n",
    "        else:\n",
    "            wordLen[len(word)].append(word)\n",
    "    return wordLen[max(wordLen.keys())]\n",
    "#User input\n",
    "usrInput = \"abc defg hijkl mnopq rstuv\"\n",
    "#Invoke the longest word function\n",
    "print(\"The longest words of User's Sentence is/are:\",*longestWordFun(usrInput), sep = \" \")"
   ]
  },
  {
   "cell_type": "markdown",
   "metadata": {},
   "source": [
    "Q.5 Write a Python Program(with class concepts) to find the area of the triangle using the below\n",
    "formula.\n",
    "\n",
    "area = (s*(s-a)*(s-b)*(s-c)) ** 0.5\n",
    "\n",
    "Function to take the length of the sides of triangle from user should be defined in the parent\n",
    "class and function to calculate the area should be defined in subclass."
   ]
  },
  {
   "cell_type": "code",
   "execution_count": 5,
   "metadata": {},
   "outputs": [
    {
     "name": "stdout",
     "output_type": "stream",
     "text": [
      "Area of the Triangle  is  2.9047375096555625 Units\n"
     ]
    }
   ],
   "source": [
    "#Function to take the length of the sides of triangle from user should be defined in the parent class and function to calculate the area should be defined in subclass.\n",
    "\n",
    "class TriangleArea(object):  #Function to take the length of the sides of triangle \n",
    "    def __init__(mine, a, b, c):\n",
    "        mine.a = a\n",
    "        mine.b = b\n",
    "        mine.c = c\n",
    "        mine.s = (a+b+c)/2 \n",
    "    def calcArea(mine): #function to calculate the area should be defined in subclass\n",
    "        return (mine.s*(mine.s-mine.a)*(mine.s-mine.b)*(mine.s-mine.c)) ** 0.5\n",
    "    \n",
    "#Initilize the side of the triangle\n",
    "aa=2\n",
    "bb=3\n",
    "cc=4\n",
    "\n",
    "#Invoke the Class with parameters \n",
    "areaTr = TriangleArea(aa,bb,cc)\n",
    "\n",
    "#Print the area of the triangle by calling the sub class\n",
    "print(\"Area of the Triangle  is \",areaTr.calcArea(),\"Units\")"
   ]
  },
  {
   "cell_type": "markdown",
   "metadata": {},
   "source": [
    "Q.6 Write a function filter_long_words() that takes a list of words and an integer n and returns the list\n",
    "of words that are longer than n."
   ]
  },
  {
   "cell_type": "code",
   "execution_count": 6,
   "metadata": {},
   "outputs": [
    {
     "name": "stdout",
     "output_type": "stream",
     "text": [
      "The following are the words which islonger than the user's input : \n",
      "defgh\n",
      "pqrstu\n"
     ]
    }
   ],
   "source": [
    "\n",
    "#Function to  filter_long_words() that takes a list of words and an integer n and returns the list of words that are longer than n.\n",
    "\n",
    "import string\n",
    "\n",
    "def filter_long_words_Fun(usrString, num):\n",
    "    for word in usrString.split():\n",
    "        word = word.rstrip(string.punctuation).lower()\n",
    "        if len(word) > num:\n",
    "            print(word)\n",
    "#User's Inputs\n",
    "usrString = 'abc defgh ijk lmno pqrstu'\n",
    "num_len = 4\n",
    "\n",
    "#print the output of the required logic\n",
    "print(\"The following are the words which islonger than the user's input : \")\n",
    "filter_long_words_Fun(usrString, num_len)"
   ]
  },
  {
   "cell_type": "markdown",
   "metadata": {},
   "source": [
    "Q.7 Write a Python program using function concept that maps list of words into a list of integers\n",
    "representing the lengths of the corresponding words.\n",
    "    \n",
    "    Hint: If a list [ ab,cde,erty] is passed on to the python function output should come as [2,3,4]\n",
    "    Here 2,3 and 4 are the lengths of the words in the list."
   ]
  },
  {
   "cell_type": "code",
   "execution_count": 7,
   "metadata": {},
   "outputs": [
    {
     "data": {
      "text/plain": [
       "[7, 5, 9, 4, 26]"
      ]
     },
     "execution_count": 7,
     "metadata": {},
     "output_type": "execute_result"
    }
   ],
   "source": [
    "#Python program using function concept that maps list of words into a list of integers representing the lengths of the corresponding words.\n",
    "\n",
    "import string\n",
    "\n",
    "def lenWords_Fun(usrList):\n",
    "    return [len(word.rstrip(string.punctuation).lower()) for word in usrList]\n",
    "#User's inputs\n",
    "usrList = ['1234567','12345','123456789','1234','abcdefghijklmnopqrstuvwxyz']\n",
    "#Invoke the function to print the length/size of strings\n",
    "lenWords_Fun(usrList)"
   ]
  },
  {
   "cell_type": "markdown",
   "metadata": {},
   "source": [
    "Q.8 Write a Python function which takes a character (i.e. a string of length 1) and returns True if it is\n",
    "a vowel, False otherwise."
   ]
  },
  {
   "cell_type": "code",
   "execution_count": 8,
   "metadata": {
    "scrolled": true
   },
   "outputs": [
    {
     "name": "stdout",
     "output_type": "stream",
     "text": [
      "False\n",
      "True\n",
      "True\n",
      "False\n"
     ]
    }
   ],
   "source": [
    "#Function to print whether the given char is vowel or not\n",
    "def isVowel_Func(char):\n",
    "    vowels = 'aeiou' # initialize the vowels - aeiou\n",
    "    return True if char.lower() in vowels else False \n",
    "\n",
    "print(isVowel_Func('B')) #Invoke to test the Capital B\n",
    "print(isVowel_Func('A')) #Invoke to test the Capital A\n",
    "print(isVowel_Func('e')) #Invoke to test the small e\n",
    "print(isVowel_Func('1')) #Invoke to test the number 1"
   ]
  }
 ],
 "metadata": {
  "kernelspec": {
   "display_name": "Python 3",
   "language": "python",
   "name": "python3"
  },
  "language_info": {
   "codemirror_mode": {
    "name": "ipython",
    "version": 3
   },
   "file_extension": ".py",
   "mimetype": "text/x-python",
   "name": "python",
   "nbconvert_exporter": "python",
   "pygments_lexer": "ipython3",
   "version": "3.7.4"
  }
 },
 "nbformat": 4,
 "nbformat_minor": 2
}
