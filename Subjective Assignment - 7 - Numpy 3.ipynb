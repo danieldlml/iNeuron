{
 "cells": [
  {
   "cell_type": "markdown",
   "metadata": {},
   "source": [
    "# Assignment"
   ]
  },
  {
   "cell_type": "markdown",
   "metadata": {},
   "source": [
    "Q1. Create two arrays of six elements. Write the NumPy program to\n",
    "count the number of instances of a value occurring in one array on\n",
    "the condition of another array.\n",
    "\n",
    "    Sample OutputOriginal arrays-\n",
    "    [ 10 -10 10 -10 -10 10]\n",
    "    [0.85 0.45 0.9 0.8 0.12 0.6 ]\n",
    "    Number of instances of a value occurring in one array on the condition of another\n",
    "    array: 3\n"
   ]
  },
  {
   "cell_type": "code",
   "execution_count": 16,
   "metadata": {},
   "outputs": [
    {
     "name": "stdout",
     "output_type": "stream",
     "text": [
      "Original Arrays-\n",
      " [ 10 -10  10 -10 -10  10] \n",
      " [0.85 0.45 0.9  0.8  0.12 0.6 ]\n",
      "Number of instances of a value occurring in one array on the condition of another array \n",
      " 3\n"
     ]
    }
   ],
   "source": [
    "#NumPy program to count the number of instances of a value occurring in one array on the condition of another array.\n",
    "\n",
    "import numpy as np\n",
    "\n",
    "arr1 = np.array([10,-10,10,-10,-10,10])\n",
    "arr2 = np.array([.85,.45,.9,.8,.12,.6])\n",
    "\n",
    "print('Original Arrays-\\n',arr1,'\\n',arr2)\n",
    "\n",
    "result = np.sum((arr1==10) & (arr2 > 0.5))\n",
    "print(\"Number of instances of a value occurring in one array on the condition of another array \\n\", result)"
   ]
  },
  {
   "cell_type": "markdown",
   "metadata": {},
   "source": [
    "Q2. Write the NumPy program to convert a Python dictionary to a\n",
    "Numpy ndarray ?\n",
    "    \n",
    "    Original dictionary-\n",
    "    {'column0': {'a': 1, 'b': 0.0, 'c': 0.0, 'd': 2.0},\n",
    "    'column1': {'a': 3.0, 'b': 1, 'c': 0.0, 'd': -1.0},\n",
    "    'column2': {'a': 4, 'b': 1, 'c': 5.0, 'd': -1.0},\n",
    "    'column3': {'a': 3.0, 'b': -1.0, 'c': -1.0, 'd': -1.0}}\n",
    "    Type: <class 'dict'>\n",
    "    ndarray-\n",
    "    [[ 1. 0. 0. 2.]\n",
    "    [ 3. 1. 0. -1.]\n",
    "    [ 4. 1. 5. -1.]\n",
    "    [ 3. -1. -1. -1.]]\n",
    "    Type: <class 'numpy.ndarray'>\n"
   ]
  },
  {
   "cell_type": "code",
   "execution_count": 17,
   "metadata": {},
   "outputs": [
    {
     "name": "stdout",
     "output_type": "stream",
     "text": [
      "\n",
      "Original dictionary-\n",
      " {'column0': {'a': 1, 'b': 0.0, 'c': 0.0, 'd': 2.0}, 'column1': {'a': 3.0, 'b': 1, 'c': 0.0, 'd': -1.0}, 'column2': {'a': 4, 'b': 1, 'c': 5.0, 'd': -1.0}, 'column3': {'a': 3.0, 'b': -1.0, 'c': -1.0, 'd': -1.0}}\n",
      "Type:  <class 'dict'>\n",
      "\n",
      "ndarray-\n",
      "[[ 1.  0.  0.  2.]\n",
      " [ 3.  1.  0. -1.]\n",
      " [ 4.  1.  5. -1.]\n",
      " [ 3. -1. -1. -1.]]\n",
      "Type:  <class 'numpy.ndarray'>\n"
     ]
    }
   ],
   "source": [
    "#NumPy program to convert a Python dictionary to a Numpy ndarray\n",
    "\n",
    "import numpy as np\n",
    "\n",
    "from ast import literal_eval\n",
    "\n",
    "input_dict = \"\"\"{\"column0\":{\"a\":1,\"b\":0.0,\"c\":0.0,\"d\":2.0},\n",
    "   \"column1\":{\"a\":3.0,\"b\":1,\"c\":0.0,\"d\":-1.0},\n",
    "   \"column2\":{\"a\":4,\"b\":1,\"c\":5.0,\"d\":-1.0},\n",
    "   \"column3\":{\"a\":3.0,\"b\":-1.0,\"c\":-1.0,\"d\":-1.0}\n",
    "  }\"\"\"\n",
    "\n",
    "arr = literal_eval(input_dict)\n",
    "print(\"\\nOriginal dictionary-\\n\",arr)\n",
    "print(\"Type: \",type(arr))\n",
    "result_nd_array= np.array([[value[j] for j in ['a', 'b', 'c', 'd']] for key, value in arr.items()])\n",
    "\n",
    "print(\"\\nndarray-\")\n",
    "print(result_nd_array)\n",
    "print(\"Type: \",type(result_nd_array))"
   ]
  },
  {
   "cell_type": "markdown",
   "metadata": {},
   "source": [
    "Q3. Write the Numpy program to find and store the non-zero unique\n",
    "rows in an array after comparing each row with other row in the\n",
    "given matrix?\n",
    " \n",
    "    Original array-\n",
    "    [[ 1 1 0]\n",
    "    [ 0 0 0]\n",
    "    [ 0 2 3]\n",
    "    [ 0 0 0]\n",
    "    [ 0 -1 1]\n",
    "    [ 0 0 0]]\n",
    "    Non-zero unique rows-\n",
    "    [[ 1 1 0]\n",
    "    [ 0 2 3]\n",
    "    [ 0 -1 1]]"
   ]
  },
  {
   "cell_type": "code",
   "execution_count": 18,
   "metadata": {},
   "outputs": [
    {
     "name": "stdout",
     "output_type": "stream",
     "text": [
      "Original array \n",
      " [[ 1  1  0]\n",
      " [ 0  0  0]\n",
      " [ 0  2  3]\n",
      " [ 0  0  0]\n",
      " [ 0 -1  1]\n",
      " [ 0  0  0]]\n",
      "\n",
      "Non-zero unique rows:\n",
      "[[ 1  1  0]\n",
      " [ 0  2  3]\n",
      " [ 0 -1  1]]\n"
     ]
    }
   ],
   "source": [
    "#Numpy program to find and store the non-zero unique rows in an array after comparing each row with other row in the given matrix\n",
    "\n",
    "import numpy as np\n",
    "\n",
    "arr = np.array([[ 1,  1,  0],\n",
    "                 [ 0,  0,  0],\n",
    "                 [ 0,  2,  3],\n",
    "                 [ 0,  0,  0],\n",
    "                 [ 0, -1,  1],\n",
    "                 [ 0,  0,  0]])\n",
    "\n",
    "print(\"Original array \\n\",arr)\n",
    "temp_row = {(0, 0, 0)}\n",
    "result = []\n",
    "for indx, row in enumerate(map(tuple, arr)):\n",
    "    if row not in temp_row:\n",
    "        result.append(indx)\n",
    "print(\"\\nNon-zero unique rows:\")\n",
    "print(arr[result])"
   ]
  },
  {
   "cell_type": "markdown",
   "metadata": {},
   "source": [
    "Q4. Write the NumPy program to multiply the matrix by another matrix\n",
    "of complex numbers and create a new matrix of complex\n",
    "numbers?\n",
    "\n",
    "    Sample outputFirst array-\n",
    "    [ 1.+2.j 3.+4.j]\n",
    "    Second array-\n",
    "    [ 5.+6.j 7.+8.j]\n",
    "    Product of above two arrays-\n"
   ]
  },
  {
   "cell_type": "code",
   "execution_count": 19,
   "metadata": {},
   "outputs": [
    {
     "name": "stdout",
     "output_type": "stream",
     "text": [
      "First array-\n",
      " [1.+2.j 3.+4.j]\n",
      "Second array-\n",
      " [5.+6.j 7.+8.j]\n",
      "Product of above two arrays-\n",
      " (70-8j)\n"
     ]
    }
   ],
   "source": [
    "\n",
    "#NumPy program to multiply the matrix by another matrix of complex numbers and create a new matrix of complex numbers\n",
    "\n",
    "import numpy as np\n",
    "\n",
    "arr1 = np.array([1+2j,3+4j])\n",
    "print(\"First array-\\n\",arr1)\n",
    "arr2 = np.array([5+6j,7+8j])\n",
    "print(\"Second array-\\n\",arr2)\n",
    "\n",
    "prod_arr = np.vdot(arr1,arr2)\n",
    "print(\"Product of above two arrays-\\n\",prod_arr)"
   ]
  },
  {
   "cell_type": "markdown",
   "metadata": {},
   "source": [
    "Q5. Write a NumPy program to generate the matrix product of two\n",
    "Arrays?\n",
    "\n",
    "    Sample OutputMatrices and vectors.\n",
    "    x-\n",
    "    [[1, 0], [1, 1]]\n",
    "    y-\n",
    "    [[3, 1], [2, 2]]\n",
    "    Matrix product of above two arrays-\n",
    "    [[3 1]\n",
    "    [5 3]]\n"
   ]
  },
  {
   "cell_type": "code",
   "execution_count": 20,
   "metadata": {},
   "outputs": [
    {
     "name": "stdout",
     "output_type": "stream",
     "text": [
      "Matrices and vectors.\n",
      "x:\n",
      " [[1, 0], [1, 1]]\n",
      "y:\n",
      " [[3, 1], [2, 2]]\n",
      "Matrix product of above two arrays:\n",
      " [[3 1]\n",
      " [5 3]]\n"
     ]
    }
   ],
   "source": [
    "#NumPy program to generate the matrix product of two Arrays?\n",
    "\n",
    "import numpy as np\n",
    "arr1 = [[1, 0], [1, 1]]\n",
    "arr2 = [[3, 1], [2, 2]]\n",
    "\n",
    "print(\"Matrices and vectors.\")\n",
    "print(\"x:\\n\",arr1)\n",
    "print(\"y:\\n\",arr2)\n",
    "\n",
    "print(\"Matrix product of above two arrays:\\n\",np.matmul(arr1, arr2))"
   ]
  },
  {
   "cell_type": "markdown",
   "metadata": {},
   "source": [
    "Q6. Write the NumPy program to find roots of the following\n",
    "Polynomials?\n",
    "\n",
    "    a) (x\n",
    "    2\n",
    "    - 4x + 7)\n",
    "    b) x4\n",
    "    - 11x3 + 9x2 + 11x ? 10\n",
    "    Sample outputRoots of the first polynomial-\n",
    "    [ 1. 1.]\n",
    "    Roots of the second polynomial-\n",
    "    [ 11.04461946+0.j -0.87114210+0.j 0.91326132+0.4531004j\n",
    "    0.91326132-0.4531004j ]"
   ]
  },
  {
   "cell_type": "code",
   "execution_count": 21,
   "metadata": {},
   "outputs": [
    {
     "name": "stdout",
     "output_type": "stream",
     "text": [
      "Roots of the first polynomial-\n",
      " [1. 1.]\n",
      "Roots of the second polynomial-\n",
      " [11.04461946+0.j        -0.8711421 +0.j         0.91326132+0.4531004j\n",
      "  0.91326132-0.4531004j]\n"
     ]
    }
   ],
   "source": [
    "#NumPy program to find roots of the following Polynomials\n",
    "\n",
    "import numpy as np\n",
    "print(\"Roots of the first polynomial-\\n\",np.roots([1, -2, 1]))\n",
    "print(\"Roots of the second polynomial-\\n\",np.roots([1, -12, 10, 7, -10]))"
   ]
  },
  {
   "cell_type": "markdown",
   "metadata": {},
   "source": [
    "Q7. Write the NumPy program to calculate inverse of sine, cosine,\n",
    "and inverse tangent for all elements in a given array?\n",
    "\n",
    "    Sample outputInverse sine- [-1.57079633 0. 1.57079633]\n",
    "    Inverse cosine- [3.14159265 1.57079633 0. ]\n",
    "    Inverse tangent- [-0.78539816 0. 0.78539816]"
   ]
  },
  {
   "cell_type": "code",
   "execution_count": 22,
   "metadata": {},
   "outputs": [
    {
     "name": "stdout",
     "output_type": "stream",
     "text": [
      "Inverse sine- [-1.57079633  0.          1.57079633]\n",
      "Inverse cosine- [3.14159265 1.57079633 0.        ]\n",
      "Inverse tangent- [-0.78539816  0.          0.78539816]\n"
     ]
    }
   ],
   "source": [
    "#NumPy program to calculate inverse of sine, cosine, and inverse tangent for all elements in a given array\n",
    "\n",
    "import numpy as np\n",
    "\n",
    "arr = np.array([-1.,0,1.])\n",
    "\n",
    "print(\"Inverse sine-\",np.arcsin(arr))\n",
    "print(\"Inverse cosine-\",np.arccos(arr))\n",
    "print(\"Inverse tangent-\",np.arctan(arr))"
   ]
  },
  {
   "cell_type": "markdown",
   "metadata": {},
   "source": [
    "Q8. Write the NumPy program to calculate the difference between in\n",
    "neighbouring elements, element-wise of a given array?\n",
    "\n",
    "    Sample outputOriginal array-\n",
    "    [1 3 5 7 0]\n",
    "    Difference between neighbouring elements, element-wise of the said array-\n",
    "    [ 2 2 2 -7]"
   ]
  },
  {
   "cell_type": "code",
   "execution_count": 23,
   "metadata": {},
   "outputs": [
    {
     "name": "stdout",
     "output_type": "stream",
     "text": [
      "Original Array- [1 3 5 7 0]\n",
      "\n",
      "Difference between neighboring elements, element-wise of the said array-\n",
      "[  0   0   2   2   2  -7 200]\n"
     ]
    }
   ],
   "source": [
    "#NumPy program to calculate the difference between in neighbouring elements, element-wise of a given array\n",
    "\n",
    "import numpy as np\n",
    "\n",
    "arr = np.array([1,3,5,7,0])\n",
    "print(\"Original Array-\",arr)\n",
    "\n",
    "ediff1d_val = np.ediff1d(arr, to_begin=[0, 0], to_end=[200])\n",
    "insert_val = np.insert(np.append(np.diff(arr), 200), 0, [0, 0])\n",
    "assert np.array_equiv(ediff1d_val, insert_val)\n",
    "print(\"\\nDifference between neighboring elements, element-wise of the said array-\")\n",
    "print(insert_val)"
   ]
  },
  {
   "cell_type": "markdown",
   "metadata": {},
   "source": [
    "Q9. Write the Python program to find the maximum and the minimum\n",
    "value of a given flattened array?\n",
    "\n",
    "    Expected OutputOriginal flattened array-\n",
    "    [[0 1]\n",
    "    [2 3]]\n",
    "    Maximum value of the above flattened array3\n",
    "    Minimum value of the above flattened array0"
   ]
  },
  {
   "cell_type": "code",
   "execution_count": 24,
   "metadata": {},
   "outputs": [
    {
     "name": "stdout",
     "output_type": "stream",
     "text": [
      "Original flattened array-\n",
      " [[0 1]\n",
      " [2 3]]\n",
      "Maximum value of the above flattened array- 3\n",
      "Minimum value of the above flattened array- 0\n"
     ]
    }
   ],
   "source": [
    "#Python program to find the maximum and the minimum value of a given flattened array\n",
    "\n",
    "import  numpy as np\n",
    "\n",
    "arr = np.arange(4).reshape((2,2))\n",
    "print(\"Original flattened array-\\n\",arr)\n",
    "\n",
    "print(\"Maximum value of the above flattened array-\",np.amax(arr))\n",
    "print(\"Minimum value of the above flattened array-\", np.amin(arr))"
   ]
  },
  {
   "cell_type": "markdown",
   "metadata": {},
   "source": [
    "Q10. Write the NumPy program to calculate the difference between in\n",
    "the maximum and the minimum values of a given array along the\n",
    "second axis ?\n",
    "\n",
    "    Expected OutputOriginal array-\n",
    "    [[ 0 1 2 3 4 5]\n",
    "    [ 6 7 8 9 10 11]]\n",
    "    Difference between the maximum and the minimum values of the said array-\n",
    "    [5 5]\n"
   ]
  },
  {
   "cell_type": "code",
   "execution_count": 25,
   "metadata": {},
   "outputs": [
    {
     "name": "stdout",
     "output_type": "stream",
     "text": [
      "Original Array - [[ 0  1  2  3  4  5]\n",
      " [ 6  7  8  9 10 11]]\n",
      "Difference between the maximum and the minimum values of the said array-\n",
      "[5 5]\n"
     ]
    }
   ],
   "source": [
    "#NumPy program to calculate the difference between in the maximum and the minimum values of a given array along the second axis\n",
    "\n",
    "arr = np.arange(12).reshape((2,6))\n",
    "print(\"Original Array -\",arr)\n",
    "\n",
    "ptp_val = np.ptp(arr,1) # funtion use to plays an important role in statistics by finding out range of given numbers. Range = max value - min value\n",
    "\n",
    "diff_max_min = np.amax(arr,1) - np.amin(arr,1) # amax - Maximum value of the flattened array *********   axis is 1 - second axis\n",
    "assert np.allclose(ptp_val, diff_max_min) # allclose - Returns True if two arrays are element-wise equal within a tolerance\n",
    "#Python's assert statement is a debugging aid that tests a condition. If the condition is true, it does nothing and your program just continues to execute. But if the assert condition evaluates to false, it raises an AssertionError exception with an optional error message.\n",
    "print(\"Difference between the maximum and the minimum values of the said array-\")\n",
    "print(ptp_val)"
   ]
  },
  {
   "cell_type": "markdown",
   "metadata": {},
   "source": [
    "Q11. Write the NumPy program to compute the weighted of the given\n",
    "array ?\n",
    "\n",
    "    Sample OutputOriginal array-\n",
    "    [0 1 2 3 4]\n",
    "    Weighted average of the said array2.6666666666666665"
   ]
  },
  {
   "cell_type": "code",
   "execution_count": 26,
   "metadata": {},
   "outputs": [
    {
     "name": "stdout",
     "output_type": "stream",
     "text": [
      "\n",
      "Original array: [0 1 2 3 4]\n",
      "\n",
      "Weighted average of the said array:\n",
      "2.6666666666666665\n"
     ]
    }
   ],
   "source": [
    "#NumPy program to compute the weighted of the given array \n",
    "\n",
    "import numpy as np\n",
    "\n",
    "x = np.arange(5)\n",
    "print(\"\\nOriginal array:\",x)\n",
    "weights = np.arange(1, 6)\n",
    "r1 = np.average(x, weights=weights)\n",
    "r2 = (x*(weights/weights.sum())).sum()\n",
    "assert np.allclose(r1, r2)\n",
    "print(\"\\nWeighted average of the said array:\")\n",
    "print(r1)"
   ]
  },
  {
   "cell_type": "markdown",
   "metadata": {},
   "source": [
    "Q12. Write the NumPy program to compute the mean, standard\n",
    "deviation, and the variance of a given array along the second\n",
    "axis?\n",
    "\n",
    "    Sample outputOriginal array-\n",
    "    [0 1 2 3 4 5]\n",
    "    Mean- 2.5\n",
    "    std- 1\n",
    "    variance- 2.9166666666666665"
   ]
  },
  {
   "cell_type": "code",
   "execution_count": 27,
   "metadata": {},
   "outputs": [
    {
     "name": "stdout",
     "output_type": "stream",
     "text": [
      "Original array-\n",
      " [0 1 2 3 4 5]\n",
      "\n",
      "Mean - 2.5\n",
      "\n",
      "std - 1.707825127659933\n",
      "\n",
      "variance:  2.9166666666666665\n"
     ]
    }
   ],
   "source": [
    "#NumPy program to compute the mean, standard deviation, and the variance of a given array along the second axis\n",
    "\n",
    "import numpy as np\n",
    "\n",
    "arr = np.arange(6)\n",
    "print(\"Original array-\\n\",arr)\n",
    "\n",
    "a1 = np.mean(arr)\n",
    "a2 = np.average(arr)\n",
    "assert np.allclose(a1,a2)\n",
    "print(\"\\nMean -\",a1)\n",
    "\n",
    "a3 = np.std(arr)\n",
    "a4 = np.sqrt(np.mean((arr - np.mean(arr)) ** 2 ))\n",
    "assert np.allclose(a3,a4)\n",
    "print(\"\\nstd -\",a3)\n",
    "\n",
    "a5= np.var(arr)\n",
    "a6 = np.mean((arr - np.mean(arr)) ** 2 )\n",
    "assert np.allclose(a5,a6)\n",
    "print(\"\\nvariance: \", a5)"
   ]
  },
  {
   "cell_type": "markdown",
   "metadata": {},
   "source": [
    "Q13. Write the Numpy program to compute the covariance matrix of the\n",
    "two given arrays?\n",
    "    \n",
    "    Sample OutputOriginal array1-\n",
    "    [0 1 2]\n",
    "    Original array1-\n",
    "    [2 1 0]\n",
    "    Covariance matrix of the said arrays-\n",
    "    [[ 1. -1.]\n",
    "    [-1. 1.]]"
   ]
  },
  {
   "cell_type": "code",
   "execution_count": 28,
   "metadata": {},
   "outputs": [
    {
     "name": "stdout",
     "output_type": "stream",
     "text": [
      "\n",
      "Original array1:\n",
      " [0 1 2]\n",
      "\n",
      "Original array2:\n",
      " [2 1 0]\n",
      "\n",
      "Covariance matrix of the said arrays:\n",
      " [[ 1. -1.]\n",
      " [-1.  1.]]\n"
     ]
    }
   ],
   "source": [
    "#Numpy program to compue the covariance matrix of the two given arrays\n",
    "\n",
    "import numpy as np\n",
    "\n",
    "arr1 = np.array([0, 1, 2])\n",
    "arr2 = np.array([2, 1, 0])\n",
    "print(\"\\nOriginal array1:\\n\",arr1)\n",
    "print(\"\\nOriginal array2:\\n\",arr2)\n",
    "print(\"\\nCovariance matrix of the said arrays:\\n\",np.cov(arr1,arr2))"
   ]
  },
  {
   "cell_type": "markdown",
   "metadata": {},
   "source": [
    "Q14. Write a NumPy program to compute the cross-correlation of two\n",
    "given arrays ?\n",
    "\n",
    "    Sample OutputOriginal array1-\n",
    "    [0 1 3]\n",
    "    Original array1-\n",
    "    [2 4 5]\n",
    "    Cross-correlation of the said arrays-\n",
    "    [ [ 2.33333333 2.16666667 ]\n",
    "     [ 2.16666667 2.33333333 ] ]"
   ]
  },
  {
   "cell_type": "code",
   "execution_count": 29,
   "metadata": {},
   "outputs": [
    {
     "name": "stdout",
     "output_type": "stream",
     "text": [
      "\n",
      "Original array1- [0 1 3]\n",
      "\n",
      "Original array2- [2 4 5]\n",
      "\n",
      "Cross-correlation of the said arrays- \n",
      " [[2.33333333 2.16666667]\n",
      " [2.16666667 2.33333333]]\n"
     ]
    }
   ],
   "source": [
    "#NumPy program to compute the cross-correlation of two given arrays \n",
    "\n",
    "import numpy as np\n",
    "\n",
    "arr3 = np.array([0, 1, 3])\n",
    "arr4 = np.array([2, 4, 5])\n",
    "print(\"\\nOriginal array1-\",arr3)\n",
    "print(\"\\nOriginal array2-\",arr4)\n",
    "\n",
    "print(\"\\nCross-correlation of the said arrays- \\n\",np.cov(arr3,arr4))"
   ]
  },
  {
   "cell_type": "markdown",
   "metadata": {},
   "source": [
    "Q15. Write the NumPy program to compute Pearson product-moment\n",
    "correlation coefficients of two given arrays?\n",
    "\n",
    "    Sample OutputOriginal array1-\n",
    "    [0 1 3]\n",
    "    Original array1-\n",
    "    [2 4 5]\n",
    "    Pearson product-moment correlation coefficients of the said arrays-\n",
    "    [[1. 0.92857143]\n",
    "    [0.92857143 1. ]]"
   ]
  },
  {
   "cell_type": "code",
   "execution_count": 30,
   "metadata": {},
   "outputs": [
    {
     "name": "stdout",
     "output_type": "stream",
     "text": [
      "\n",
      "Original array1- [0 1 3]\n",
      "\n",
      "Original array2- [2 4 5]\n",
      "\n",
      "Pearson product-moment correlation coefficients of the said arrays-\n",
      " [[1.         0.92857143]\n",
      " [0.92857143 1.        ]]\n"
     ]
    }
   ],
   "source": [
    "#NumPy program to compute Pearson product-moment correlation coefficients of two given arrays\n",
    "\n",
    "import numpy as np\n",
    "\n",
    "arr5 = np.array([0, 1, 3])\n",
    "arr6 = np.array([2, 4, 5])\n",
    "print(\"\\nOriginal array1-\",arr5)\n",
    "print(\"\\nOriginal array2-\",arr6)\n",
    "\n",
    "print(\"\\nPearson product-moment correlation coefficients of the said arrays-\\n\",np.corrcoef(arr5,arr6))"
   ]
  },
  {
   "cell_type": "markdown",
   "metadata": {},
   "source": [
    "Q16. Write the python program to count the number of occurrences of\n",
    "each value in a given array of non-negative integers?\n",
    " \n",
    "Note: bincount() Function- It count the occurrence of each value in an array of the\n",
    "non- negative integers in the range of the array between the minimum and maximum values\n",
    "including the values that did not occur.\n",
    "\n",
    "    Sample OutputOriginal array-\n",
    "    [0, 1, 6, 1, 4, 1, 2, 2, 7]\n",
    "    Number of occurrences of each value in array-\n",
    "    [1 3 2 0 1 0 1 1]"
   ]
  },
  {
   "cell_type": "code",
   "execution_count": 31,
   "metadata": {},
   "outputs": [
    {
     "name": "stdout",
     "output_type": "stream",
     "text": [
      "Original array-\n",
      " [1, 1, 2, 3]\n",
      "Number of occurrences of each value in array- \n",
      "[0 2 1 1]\n"
     ]
    }
   ],
   "source": [
    "# python program to count the number of occurrences of each value in a given array of non-negative integers\n",
    "\n",
    "import numpy as np\n",
    "\n",
    "arr1 = [1,1,2,3] \n",
    "print(\"Original array-\\n\",arr1)\n",
    "print(\"Number of occurrences of each value in array- \")\n",
    "print(np.bincount(arr1)) # bincount returns the size of each 'bin' for each value from 0 to the largest value in the array it is called on. "
   ]
  },
  {
   "cell_type": "markdown",
   "metadata": {},
   "source": [
    "Q17. Write a Numpy program to compute the histogram of nums\n",
    "against the bins?\n",
    "\n",
    "    Sample Outputnums- [0.5 0.7 1. 1.2 1.3 2.1]\n",
    "    P a g e 29 | 44\n",
    "    bins- [0 1 2 3]\n",
    "    Result- (array([2, 3, 1], dtype=int64), array([0, 1, 2, 3]))"
   ]
  },
  {
   "cell_type": "code",
   "execution_count": 32,
   "metadata": {},
   "outputs": [
    {
     "name": "stdout",
     "output_type": "stream",
     "text": [
      "nums:  [0.5 0.7 1.  1.2 1.3 2.1]\n",
      "bins:  [0 1 2 3]\n",
      "Result: (array([2, 3, 1], dtype=int64), array([0, 1, 2, 3]))\n"
     ]
    },
    {
     "data": {
      "image/png": "[encoded data removed]",
      "text/plain": [
       "<Figure size 432x288 with 1 Axes>"
      ]
     },
     "metadata": {
      "needs_background": "light"
     },
     "output_type": "display_data"
    }
   ],
   "source": [
    "#Numpy program to compute the histogram of nums against the bins\n",
    "\n",
    "import numpy as np\n",
    "import matplotlib.pyplot as plt\n",
    "\n",
    "nums = np.array([0.5, 0.7, 1.0, 1.2, 1.3, 2.1])\n",
    "bns = np.array([0, 1, 2, 3])\n",
    "\n",
    "print(\"nums: \",nums)\n",
    "print(\"bins: \",bins)\n",
    "print(\"Result:\", np.histogram(nums, bins))\n",
    "plt.hist(nums, bins=bns)\n",
    "plt.show()"
   ]
  }
 ],
 "metadata": {
  "kernelspec": {
   "display_name": "Python 3",
   "language": "python",
   "name": "python3"
  },
  "language_info": {
   "codemirror_mode": {
    "name": "ipython",
    "version": 3
   },
   "file_extension": ".py",
   "mimetype": "text/x-python",
   "name": "python",
   "nbconvert_exporter": "python",
   "pygments_lexer": "ipython3",
   "version": "3.7.4"
  }
 },
 "nbformat": 4,
 "nbformat_minor": 2
}
